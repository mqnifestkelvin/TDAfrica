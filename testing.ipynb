{
 "cells": [
  {
   "cell_type": "code",
   "execution_count": 171,
   "id": "e64a4e1a",
   "metadata": {},
   "outputs": [],
   "source": [
    "from typing import List\n",
    "from dataclasses import fields\n",
    "import modelspec\n",
    "from modelspec import field, instance_of, optional\n",
    "from modelspec.base_types import Base, value_expr_types, ValueExprType, print_v\n",
    "from typing import List, Dict, Any, Optional\n",
    "from modelspec.utils import load_xml, load_json, load_yaml\n",
    "import xml.dom.minidom\n",
    "from pathlib import Path\n",
    "import sys\n",
    "import xml.dom.minidom"
   ]
  },
  {
   "cell_type": "code",
   "execution_count": 141,
   "id": "09882059",
   "metadata": {},
   "outputs": [],
   "source": [
    "@modelspec.define\n",
    "class Population(Base):\n",
    "    \"\"\"\n",
    "    Some description...\n",
    "\n",
    "    Args:\n",
    "        id: The id of the population\n",
    "        component: the component to use in the population\n",
    "        size: the size of the population\n",
    "    \"\"\"\n",
    "\n",
    "    id: str = field(validator=instance_of(str))\n",
    "    component: str = field(default=None, validator=optional(instance_of(str)))\n",
    "    size: int = field(default=None, validator=optional(instance_of(int)))\n",
    "\n",
    "\n",
    "@modelspec.define\n",
    "class ExplicitInput(Base):\n",
    "    \"\"\"\n",
    "    Some description...\n",
    "\n",
    "    Args:\n",
    "        target: the target of the input\n",
    "        input: the input, e.g. pulseGenerator\n",
    "    \"\"\"\n",
    "\n",
    "    target: str = field(default=None, validator=optional(instance_of(str)))\n",
    "    input: str = field(default=None, validator=optional(instance_of(str)))\n",
    "\n",
    "\n",
    "@modelspec.define\n",
    "class Network(Base):\n",
    "    \"\"\"\n",
    "    Some description...\n",
    "\n",
    "    Args:\n",
    "        id: The id of the network\n",
    "        populations: the pops in the net\n",
    "    \"\"\"\n",
    "\n",
    "    id: str = field(validator=instance_of(str))\n",
    "\n",
    "    populations: List[Population] = field(factory=list)\n",
    "    explicitInputs: List[ExplicitInput] = field(factory=list)\n",
    "\n",
    "\n",
    "@modelspec.define\n",
    "class PulseGenerator(Base):\n",
    "    \"\"\"\n",
    "    Some description...\n",
    "\n",
    "    Args:\n",
    "        id: The id of the pulseGenerator\n",
    "        delay: the delay\n",
    "        duration: the duration\n",
    "        amplitude: the amplitude\n",
    "    \"\"\"\n",
    "\n",
    "    id: str = field(validator=instance_of(str))\n",
    "    delay: str = field(validator=instance_of(str))\n",
    "    duration: str = field(validator=instance_of(str))\n",
    "    amplitude: str = field(validator=instance_of(str))\n",
    "\n",
    "\n",
    "@modelspec.define\n",
    "class Izhikevich2007Cell(Base):\n",
    "    \"\"\"\n",
    "    Some description...\n",
    "\n",
    "    Args:\n",
    "        id: The id of the cell...\n",
    "    \"\"\"\n",
    "\n",
    "    id: str = field(validator=instance_of(str))\n",
    "\n",
    "    C: str = field(validator=instance_of(str))\n",
    "    v0: str = field(validator=instance_of(str))\n",
    "    k: str = field(validator=instance_of(str))\n",
    "    vr: str = field(validator=instance_of(str))\n",
    "    vt: str = field(validator=instance_of(str))\n",
    "    vpeak: str = field(validator=instance_of(str))\n",
    "    a: str = field(validator=instance_of(str))\n",
    "    b: str = field(validator=instance_of(str))\n",
    "    c: str = field(validator=instance_of(str))\n",
    "    d: str = field(validator=instance_of(str))\n",
    "\n",
    "\n",
    "@modelspec.define\n",
    "class NeuroML(Base):\n",
    "    \"\"\"\n",
    "    Some description...\n",
    "\n",
    "    Args:\n",
    "        id: The id of the NeuroML 2 document\n",
    "        version: NeuroML version used\n",
    "        networks: The networks present\n",
    "    \"\"\"\n",
    "\n",
    "    id: str = field(validator=instance_of(str))\n",
    "    version: str = field(validator=instance_of(str))\n",
    "\n",
    "    izhikevich2007Cells: List[Izhikevich2007Cell] = field(factory=list)\n",
    "    pulseGenerators: List[PulseGenerator] = field(factory=list)\n",
    "    networks: List[Network] = field(factory=list)\n",
    "\n",
    "\n",
    "nml_doc = NeuroML(id=\"TestNeuroML\", version=\"NeuroML_v2.3\")\n",
    "\n",
    "izh = Izhikevich2007Cell(\n",
    "        id=\"izh2007RS0\",\n",
    "        C=\"100pF\",\n",
    "        v0=\"-60mV\",\n",
    "        k=\"0.7nS_per_mV\",\n",
    "        vr=\"-60mV\",\n",
    "        vt=\"-40mV\",\n",
    "        vpeak=\"35mV\",\n",
    "        a=\"0.03per_ms\",\n",
    "        b=\"-2nS\",\n",
    "        c=\"-50.0mV\",\n",
    "        d=\"100pA\",\n",
    ")\n",
    "nml_doc.izhikevich2007Cells.append(izh)\n",
    "\n",
    "pg = PulseGenerator(\n",
    "        id=\"pulseGen_0\", delay=\"100ms\", duration=\"800ms\", amplitude=\"0.07 nA\"\n",
    ")\n",
    "nml_doc.pulseGenerators.append(pg)\n",
    "\n",
    "net = Network(id=\"IzNet\")\n",
    "nml_doc.networks.append(net)\n",
    "\n",
    "net.populations.append(Population(\"IzhPop0\", component=\"izh2007RS0\", size=1))\n",
    "net.explicitInputs.append(ExplicitInput(target=\"IzhPop0[0]\", input=\"pulseGen_0\"))\n",
    "nml_dict = nml_doc.to_dict()"
   ]
  },
  {
   "cell_type": "code",
   "execution_count": 142,
   "id": "1d85d422",
   "metadata": {},
   "outputs": [
    {
     "data": {
      "text/plain": [
       "'TestNeuroML.xml'"
      ]
     },
     "execution_count": 142,
     "metadata": {},
     "output_type": "execute_result"
    }
   ],
   "source": [
    "# Saving xml file\n",
    "nml_doc.to_xml_file()"
   ]
  },
  {
   "cell_type": "code",
   "execution_count": 143,
   "id": "3809c1fa",
   "metadata": {},
   "outputs": [
    {
     "data": {
      "text/plain": [
       "'TestNeuroML.yaml'"
      ]
     },
     "execution_count": 143,
     "metadata": {},
     "output_type": "execute_result"
    }
   ],
   "source": [
    "# Saving xml yaml file\n",
    "nml_doc.to_yaml_file()"
   ]
  },
  {
   "cell_type": "code",
   "execution_count": 144,
   "id": "5853d138",
   "metadata": {},
   "outputs": [
    {
     "data": {
      "text/plain": [
       "'TestNeuroML.json'"
      ]
     },
     "execution_count": 144,
     "metadata": {},
     "output_type": "execute_result"
    }
   ],
   "source": [
    "# Saving json file\n",
    "nml_doc.to_json_file()"
   ]
  },
  {
   "cell_type": "code",
   "execution_count": 145,
   "id": "7c473c04",
   "metadata": {},
   "outputs": [
    {
     "data": {
      "text/plain": [
       "{'TestNeuroML': {'version': 'NeuroML_v2.3',\n",
       "  'izhikevich2007Cells': {'izh2007RS0': {'C': '100pF',\n",
       "    'v0': '-60mV',\n",
       "    'k': '0.7nS_per_mV',\n",
       "    'vr': '-60mV',\n",
       "    'vt': '-40mV',\n",
       "    'vpeak': '35mV',\n",
       "    'a': '0.03per_ms',\n",
       "    'b': '-2nS',\n",
       "    'c': '-50.0mV',\n",
       "    'd': '100pA'}},\n",
       "  'pulseGenerators': {'pulseGen_0': {'delay': '100ms',\n",
       "    'duration': '800ms',\n",
       "    'amplitude': '0.07 nA'}},\n",
       "  'networks': {'IzNet': {'populations': {'IzhPop0': {'component': 'izh2007RS0',\n",
       "      'size': 1}},\n",
       "    'explicitInputs': [{'target': 'IzhPop0[0]', 'input': 'pulseGen_0'}]}}}}"
      ]
     },
     "execution_count": 145,
     "metadata": {},
     "output_type": "execute_result"
    }
   ],
   "source": [
    "# Loading xml file\n",
    "loaded_xml = load_xml('TestNeuroML.xml')\n",
    "loaded_xml"
   ]
  },
  {
   "cell_type": "code",
   "execution_count": 146,
   "id": "a04258c4",
   "metadata": {},
   "outputs": [
    {
     "data": {
      "text/plain": [
       "{'TestNeuroML': {'version': 'NeuroML_v2.3',\n",
       "  'izhikevich2007Cells': {'izh2007RS0': {'C': '100pF',\n",
       "    'v0': '-60mV',\n",
       "    'k': '0.7nS_per_mV',\n",
       "    'vr': '-60mV',\n",
       "    'vt': '-40mV',\n",
       "    'vpeak': '35mV',\n",
       "    'a': '0.03per_ms',\n",
       "    'b': '-2nS',\n",
       "    'c': '-50.0mV',\n",
       "    'd': '100pA'}},\n",
       "  'pulseGenerators': {'pulseGen_0': {'delay': '100ms',\n",
       "    'duration': '800ms',\n",
       "    'amplitude': '0.07 nA'}},\n",
       "  'networks': {'IzNet': {'populations': {'IzhPop0': {'component': 'izh2007RS0',\n",
       "      'size': 1}},\n",
       "    'explicitInputs': [{'target': 'IzhPop0[0]', 'input': 'pulseGen_0'}]}}}}"
      ]
     },
     "execution_count": 146,
     "metadata": {},
     "output_type": "execute_result"
    }
   ],
   "source": [
    "# Loading yaml file\n",
    "loaded_yaml = load_yaml('TestNeuroML.yaml')\n",
    "loaded_yaml"
   ]
  },
  {
   "cell_type": "code",
   "execution_count": 147,
   "id": "6c6ad3ce",
   "metadata": {},
   "outputs": [
    {
     "data": {
      "text/plain": [
       "{'TestNeuroML': {'version': 'NeuroML_v2.3',\n",
       "  'izhikevich2007Cells': {'izh2007RS0': {'C': '100pF',\n",
       "    'v0': '-60mV',\n",
       "    'k': '0.7nS_per_mV',\n",
       "    'vr': '-60mV',\n",
       "    'vt': '-40mV',\n",
       "    'vpeak': '35mV',\n",
       "    'a': '0.03per_ms',\n",
       "    'b': '-2nS',\n",
       "    'c': '-50.0mV',\n",
       "    'd': '100pA'}},\n",
       "  'pulseGenerators': {'pulseGen_0': {'delay': '100ms',\n",
       "    'duration': '800ms',\n",
       "    'amplitude': '0.07 nA'}},\n",
       "  'networks': {'IzNet': {'populations': {'IzhPop0': {'component': 'izh2007RS0',\n",
       "      'size': 1}},\n",
       "    'explicitInputs': [{'target': 'IzhPop0[0]', 'input': 'pulseGen_0'}]}}}}"
      ]
     },
     "execution_count": 147,
     "metadata": {},
     "output_type": "execute_result"
    }
   ],
   "source": [
    "# Loading json file\n",
    "loaded_json = load_json('TestNeuroML.json')\n",
    "loaded_json"
   ]
  },
  {
   "cell_type": "code",
   "execution_count": 148,
   "id": "9da4c2db",
   "metadata": {},
   "outputs": [],
   "source": [
    "nml_dict = nml_doc.to_dict()"
   ]
  },
  {
   "cell_type": "code",
   "execution_count": 149,
   "id": "7cf4e57f",
   "metadata": {},
   "outputs": [],
   "source": [
    "def check(data_1, data_2):\n",
    "    if data_1 == data_2:\n",
    "        print(\"True\")\n",
    "    else:\n",
    "        print(\"False\")"
   ]
  },
  {
   "cell_type": "code",
   "execution_count": 150,
   "id": "1299601a",
   "metadata": {},
   "outputs": [
    {
     "name": "stdout",
     "output_type": "stream",
     "text": [
      "True\n"
     ]
    }
   ],
   "source": [
    "# Comparing loaded xml with loaded json file\n",
    "check(loaded_xml, loaded_json)"
   ]
  },
  {
   "cell_type": "code",
   "execution_count": 151,
   "id": "b0d33a9e",
   "metadata": {},
   "outputs": [
    {
     "name": "stdout",
     "output_type": "stream",
     "text": [
      "True\n"
     ]
    }
   ],
   "source": [
    "# Comparing loaded xml with loaded original dictionary\n",
    "check(loaded_xml, nml_dict)"
   ]
  },
  {
   "cell_type": "code",
   "execution_count": 152,
   "id": "03894bd2",
   "metadata": {},
   "outputs": [
    {
     "name": "stdout",
     "output_type": "stream",
     "text": [
      "True\n"
     ]
    }
   ],
   "source": [
    "# Comparing loaded xml with loaded yaml file\n",
    "check(loaded_xml, loaded_yaml)"
   ]
  },
  {
   "cell_type": "code",
   "execution_count": null,
   "id": "de207309",
   "metadata": {},
   "outputs": [],
   "source": []
  },
  {
   "cell_type": "code",
   "execution_count": null,
   "id": "745e97a6",
   "metadata": {},
   "outputs": [],
   "source": []
  },
  {
   "cell_type": "markdown",
   "id": "afea2d54",
   "metadata": {},
   "source": [
    "# Using the test classes to test the xml serialization"
   ]
  },
  {
   "cell_type": "code",
   "execution_count": 197,
   "id": "f34a451b",
   "metadata": {},
   "outputs": [],
   "source": [
    "# Some test modelspec classes to use in the tests\n",
    "\n",
    "\n",
    "@modelspec.define\n",
    "class NewCell(Base):\n",
    "    \"\"\"\n",
    "    A new cell definition\n",
    "\n",
    "    Args:\n",
    "        id: the cell id\n",
    "        neuroml2_source_file: The path to the source file\n",
    "    \"\"\"\n",
    "\n",
    "    id: str = field(validator=instance_of(str))\n",
    "    neuroml2_source_file: str = field(\n",
    "        default=None, validator=optional(instance_of(str))\n",
    "    )\n",
    "\n",
    "\n",
    "@modelspec.define\n",
    "class NewSynapse(Base):\n",
    "    \"\"\"\n",
    "    A new synapse definition\n",
    "\n",
    "    Args:\n",
    "        id: the synapse id\n",
    "        neuroml2_source_file: The path to the source file\n",
    "        tested: A boolean attribute\n",
    "    \"\"\"\n",
    "\n",
    "    id: str = field(validator=instance_of(str))\n",
    "    neuroml2_source_file: str = field(\n",
    "        default=None, validator=optional(instance_of(str))\n",
    "    )\n",
    "    tested: bool = field(default=None, validator=optional(instance_of(bool)))\n",
    "\n",
    "\n",
    "@modelspec.define\n",
    "class NewRandomConnectivity(Base):\n",
    "    \"\"\"\n",
    "    A new random connectivity definition\n",
    "\n",
    "    Args:\n",
    "        probability: Random probability of connection\n",
    "\n",
    "    \"\"\"\n",
    "\n",
    "    probability: ValueExprType = field(\n",
    "        default=None, validator=optional(instance_of(value_expr_types))\n",
    "    )\n",
    "\n",
    "\n",
    "@modelspec.define\n",
    "class NewNetwork(Base):\n",
    "    \"\"\"\n",
    "    A new network definition\n",
    "\n",
    "    Args:\n",
    "        id: a unique identifier for the network\n",
    "        cells: a list of cells\n",
    "        synapses: a list of synapses\n",
    "        version: Information on verson of NeuroMLlite\n",
    "        seed: Seed for random number generator used when building network\n",
    "        stable: Testing...\n",
    "        parameters: Dictionary of global parameters for the network\n",
    "        random_connectivity: Use random connectivity\n",
    "    \"\"\"\n",
    "\n",
    "    id: str = field(validator=instance_of(str))\n",
    "    cells: List[NewCell] = field(factory=list)\n",
    "    synapses: List[NewSynapse] = field(factory=list)\n",
    "    version: str = field(default=\"NeuroMLlite 0.0\", validator=instance_of(str))\n",
    "    seed: int = field(default=None, validator=optional(instance_of(int)))\n",
    "    stable: bool = field(default=None, validator=optional(instance_of(bool)))\n",
    "    parameters: Dict[str, Any] = field(\n",
    "        default=None, validator=optional(instance_of(dict))\n",
    "    )\n",
    "    random_connectivity: NewRandomConnectivity = field(\n",
    "        default=None, validator=optional(instance_of(NewRandomConnectivity))\n",
    "    )\n",
    "    ee0: ValueExprType = field(\n",
    "        default=None, validator=optional(instance_of(value_expr_types))\n",
    "    )\n",
    "    ee1: ValueExprType = field(\n",
    "        default=None, validator=optional(instance_of(value_expr_types))\n",
    "    )\n",
    "    ee2: ValueExprType = field(\n",
    "        default=None, validator=optional(instance_of(value_expr_types))\n",
    "    )\n",
    "    ee3: ValueExprType = field(\n",
    "        default=None, validator=optional(instance_of(value_expr_types))\n",
    "    )\n",
    "    ee4: ValueExprType = field(\n",
    "        default=None, validator=optional(instance_of(value_expr_types))\n",
    "    )\n",
    "    ee5: ValueExprType = field(\n",
    "        default=None, validator=optional(instance_of(value_expr_types))\n",
    "    )\n",
    "    ee6: ValueExprType = field(\n",
    "        default=None, validator=optional(instance_of(value_expr_types))\n",
    "    )\n",
    "\n"
   ]
  },
  {
   "cell_type": "code",
   "execution_count": 198,
   "id": "aa63c612",
   "metadata": {},
   "outputs": [
    {
     "name": "stdout",
     "output_type": "stream",
     "text": [
      "NewNetwork(id='netid', cells=[], synapses=[], version='NeuroMLlite 0.0', seed=None, stable=None, parameters={'size': 3, 'name': None}, random_connectivity=None, ee0='str', ee1={'a': 2}, ee2=1, ee3=1.1, ee4=True, ee5=[1, 2], ee6=None)\n",
      "[]\n",
      "NewNetwork(id='netid', cells=[], synapses=[], version='NeuroMLlite 0.0', seed=None, stable=None, parameters={'size': 3, 'name': None}, random_connectivity=None, ee0='str', ee1={'a': 2}, ee2=1, ee3=1.1, ee4=True, ee5=[1, 2], ee6=None)\n",
      "NewRandomConnectivity(probability=0.01)\n",
      "NewNetwork(id='netid', cells=[NewCell(id='cellid1', neuroml2_source_file='nnn'), NewCell(id='cellid2', neuroml2_source_file='nnn2')], synapses=[NewSynapse(id='syn0', neuroml2_source_file=None, tested=True), NewSynapse(id='syn1', neuroml2_source_file='xx', tested=None)], version='NeuroMLlite 0.0', seed=None, stable=False, parameters={'size': 3, 'name': None}, random_connectivity=NewRandomConnectivity(probability=0.01), ee0='str', ee1={'a': 2}, ee2=1, ee3=1.1, ee4=True, ee5=[1, 2], ee6=None)\n"
     ]
    }
   ],
   "source": [
    "tmp_path = '.'\n",
    "net = NewNetwork(id=\"netid\", parameters={\"size\": 3, \"name\": None})\n",
    "\n",
    "# Some tests on what's allowed\n",
    "net.ee0 = \"str\"\n",
    "net.ee1 = {\"a\": 2}\n",
    "net.ee2 = 1\n",
    "net.ee3 = 1.1\n",
    "net.ee4 = True\n",
    "net.ee5 = [1, 2]\n",
    "net.ee6 = None\n",
    "\n",
    "cell = NewCell(id=\"cellid1\")\n",
    "cell.neuroml2_source_file = \"nnn\"\n",
    "cell2 = NewCell(id=\"cellid2\")\n",
    "cell2.neuroml2_source_file = \"nnn2\"\n",
    "# net.cells.append(cell)\n",
    "\n",
    "print(net)\n",
    "print(net.cells)\n",
    "print(net)\n",
    "\"\"\"  \"\"\"\n",
    "net.cells.append(cell)\n",
    "net.cells.append(cell2)\n",
    "\n",
    "syn0 = NewSynapse(id=\"syn0\", neuroml2_source_file=None, tested=True)\n",
    "net.synapses.append(syn0)\n",
    "syn1 = NewSynapse(id=\"syn1\", neuroml2_source_file=\"xx\", tested=None)\n",
    "net.synapses.append(syn1)\n",
    "\n",
    "rc = NewRandomConnectivity(probability=0.01)\n",
    "net.random_connectivity = rc\n",
    "net.stable = False\n",
    "print(rc)\n",
    "print(net)\n"
   ]
  },
  {
   "cell_type": "code",
   "execution_count": 199,
   "id": "045395fd",
   "metadata": {},
   "outputs": [
    {
     "name": "stdout",
     "output_type": "stream",
     "text": [
      "modelspec >>> Loaded network specification from netid.json\n",
      "modelspec >>> Loaded network specification from netid.yaml\n",
      "modelspec >>> Loaded network specification from netid.xml\n"
     ]
    },
    {
     "ename": "TypeError",
     "evalue": "int() argument must be a string, a bytes-like object or a real number, not 'NoneType'",
     "output_type": "error",
     "traceback": [
      "\u001b[1;31m---------------------------------------------------------------------------\u001b[0m",
      "\u001b[1;31mTypeError\u001b[0m                                 Traceback (most recent call last)",
      "Cell \u001b[1;32mIn[199], line 30\u001b[0m\n\u001b[0;32m     27\u001b[0m datax \u001b[38;5;241m=\u001b[39m load_xml(filenamex)\n\u001b[0;32m     28\u001b[0m print_v(\u001b[38;5;124m\"\u001b[39m\u001b[38;5;124mLoaded network specification from \u001b[39m\u001b[38;5;132;01m%s\u001b[39;00m\u001b[38;5;124m\"\u001b[39m \u001b[38;5;241m%\u001b[39m filenamex)\n\u001b[1;32m---> 30\u001b[0m netx \u001b[38;5;241m=\u001b[39m \u001b[43mNewNetwork\u001b[49m\u001b[38;5;241;43m.\u001b[39;49m\u001b[43mfrom_dict\u001b[49m\u001b[43m(\u001b[49m\u001b[43mdatax\u001b[49m\u001b[43m)\u001b[49m\n\u001b[0;32m     31\u001b[0m str_netx \u001b[38;5;241m=\u001b[39m \u001b[38;5;28mstr\u001b[39m(netx)\n\u001b[0;32m     33\u001b[0m \u001b[38;5;28mprint\u001b[39m(\u001b[38;5;124m\"\u001b[39m\u001b[38;5;124m----- Before -----\u001b[39m\u001b[38;5;124m\"\u001b[39m)\n",
      "File \u001b[1;32m~\\Desktop\\contribution\\py310\\lib\\site-packages\\modelspec\\base_types.py:153\u001b[0m, in \u001b[0;36mBase.from_dict\u001b[1;34m(cls, d)\u001b[0m\n\u001b[0;32m    150\u001b[0m     \u001b[38;5;66;03m# Get the first key, this should be the id\u001b[39;00m\n\u001b[0;32m    151\u001b[0m     id_val \u001b[38;5;241m=\u001b[39m keys[\u001b[38;5;241m0\u001b[39m]\n\u001b[1;32m--> 153\u001b[0m     \u001b[38;5;28;01mreturn\u001b[39;00m \u001b[43mconverter\u001b[49m\u001b[38;5;241;43m.\u001b[39;49m\u001b[43mstructure\u001b[49m\u001b[43m(\u001b[49m\u001b[43m{\u001b[49m\u001b[38;5;124;43m\"\u001b[39;49m\u001b[38;5;124;43mid\u001b[39;49m\u001b[38;5;124;43m\"\u001b[39;49m\u001b[43m:\u001b[49m\u001b[43m \u001b[49m\u001b[43mid_val\u001b[49m\u001b[43m,\u001b[49m\u001b[43m \u001b[49m\u001b[38;5;241;43m*\u001b[39;49m\u001b[38;5;241;43m*\u001b[39;49m\u001b[43md\u001b[49m\u001b[43m[\u001b[49m\u001b[43mid_val\u001b[49m\u001b[43m]\u001b[49m\u001b[43m}\u001b[49m\u001b[43m,\u001b[49m\u001b[43m \u001b[49m\u001b[38;5;28;43mcls\u001b[39;49m\u001b[43m)\u001b[49m\n\u001b[0;32m    154\u001b[0m \u001b[38;5;28;01melse\u001b[39;00m:\n\u001b[0;32m    155\u001b[0m     \u001b[38;5;28;01mreturn\u001b[39;00m converter\u001b[38;5;241m.\u001b[39mstructure(d, \u001b[38;5;28mcls\u001b[39m)\n",
      "File \u001b[1;32m~\\Desktop\\contribution\\py310\\lib\\site-packages\\cattrs\\converters.py:309\u001b[0m, in \u001b[0;36mBaseConverter.structure\u001b[1;34m(self, obj, cl)\u001b[0m\n\u001b[0;32m    306\u001b[0m \u001b[38;5;28;01mdef\u001b[39;00m \u001b[38;5;21mstructure\u001b[39m(\u001b[38;5;28mself\u001b[39m, obj: Any, cl: Type[T]) \u001b[38;5;241m-\u001b[39m\u001b[38;5;241m>\u001b[39m T:\n\u001b[0;32m    307\u001b[0m \u001b[38;5;250m    \u001b[39m\u001b[38;5;124;03m\"\"\"Convert unstructured Python data structures to structured data.\"\"\"\u001b[39;00m\n\u001b[1;32m--> 309\u001b[0m     \u001b[38;5;28;01mreturn\u001b[39;00m \u001b[38;5;28;43mself\u001b[39;49m\u001b[38;5;241;43m.\u001b[39;49m\u001b[43m_structure_func\u001b[49m\u001b[38;5;241;43m.\u001b[39;49m\u001b[43mdispatch\u001b[49m\u001b[43m(\u001b[49m\u001b[43mcl\u001b[49m\u001b[43m)\u001b[49m\u001b[43m(\u001b[49m\u001b[43mobj\u001b[49m\u001b[43m,\u001b[49m\u001b[43m \u001b[49m\u001b[43mcl\u001b[49m\u001b[43m)\u001b[49m\n",
      "File \u001b[1;32m~\\Desktop\\contribution\\py310\\lib\\site-packages\\modelspec\\base_types.py:988\u001b[0m, in \u001b[0;36m_base_struct_hook_factory.<locals>._structure_base\u001b[1;34m(obj, t)\u001b[0m\n\u001b[0;32m    985\u001b[0m     \u001b[38;5;28;01mif\u001b[39;00m name[\u001b[38;5;241m0\u001b[39m] \u001b[38;5;241m==\u001b[39m \u001b[38;5;124m\"\u001b[39m\u001b[38;5;124m_\u001b[39m\u001b[38;5;124m\"\u001b[39m:\n\u001b[0;32m    986\u001b[0m         name \u001b[38;5;241m=\u001b[39m name[\u001b[38;5;241m1\u001b[39m:]\n\u001b[1;32m--> 988\u001b[0m     conv_obj[name] \u001b[38;5;241m=\u001b[39m \u001b[43mconverter\u001b[49m\u001b[38;5;241;43m.\u001b[39;49m\u001b[43m_structure_attribute\u001b[49m\u001b[43m(\u001b[49m\u001b[43ma\u001b[49m\u001b[43m,\u001b[49m\u001b[43m \u001b[49m\u001b[43mval\u001b[49m\u001b[43m)\u001b[49m\n\u001b[0;32m    990\u001b[0m \u001b[38;5;28;01mreturn\u001b[39;00m cl(\u001b[38;5;241m*\u001b[39m\u001b[38;5;241m*\u001b[39mconv_obj)\n",
      "File \u001b[1;32m~\\Desktop\\contribution\\py310\\lib\\site-packages\\cattrs\\converters.py:461\u001b[0m, in \u001b[0;36mBaseConverter._structure_attribute\u001b[1;34m(self, a, value)\u001b[0m\n\u001b[0;32m    458\u001b[0m     \u001b[38;5;28;01mreturn\u001b[39;00m value\n\u001b[0;32m    460\u001b[0m \u001b[38;5;28;01mtry\u001b[39;00m:\n\u001b[1;32m--> 461\u001b[0m     \u001b[38;5;28;01mreturn\u001b[39;00m \u001b[38;5;28;43mself\u001b[39;49m\u001b[38;5;241;43m.\u001b[39;49m\u001b[43m_structure_func\u001b[49m\u001b[38;5;241;43m.\u001b[39;49m\u001b[43mdispatch\u001b[49m\u001b[43m(\u001b[49m\u001b[43mtype_\u001b[49m\u001b[43m)\u001b[49m\u001b[43m(\u001b[49m\u001b[43mvalue\u001b[49m\u001b[43m,\u001b[49m\u001b[43m \u001b[49m\u001b[43mtype_\u001b[49m\u001b[43m)\u001b[49m\n\u001b[0;32m    462\u001b[0m \u001b[38;5;28;01mexcept\u001b[39;00m StructureHandlerNotFoundError:\n\u001b[0;32m    463\u001b[0m     \u001b[38;5;28;01mif\u001b[39;00m attrib_converter:\n\u001b[0;32m    464\u001b[0m         \u001b[38;5;66;03m# Return the original value and fallback to using an attrib converter.\u001b[39;00m\n",
      "File \u001b[1;32m~\\Desktop\\contribution\\py310\\lib\\site-packages\\cattrs\\converters.py:415\u001b[0m, in \u001b[0;36mBaseConverter._structure_call\u001b[1;34m(obj, cl)\u001b[0m\n\u001b[0;32m    407\u001b[0m \u001b[38;5;129m@staticmethod\u001b[39m\n\u001b[0;32m    408\u001b[0m \u001b[38;5;28;01mdef\u001b[39;00m \u001b[38;5;21m_structure_call\u001b[39m(obj: Any, cl: Type[T]) \u001b[38;5;241m-\u001b[39m\u001b[38;5;241m>\u001b[39m Any:\n\u001b[0;32m    409\u001b[0m \u001b[38;5;250m    \u001b[39m\u001b[38;5;124;03m\"\"\"Just call ``cl`` with the given ``obj``.\u001b[39;00m\n\u001b[0;32m    410\u001b[0m \n\u001b[0;32m    411\u001b[0m \u001b[38;5;124;03m    This is just an optimization on the ``_structure_default`` case, when\u001b[39;00m\n\u001b[0;32m    412\u001b[0m \u001b[38;5;124;03m    we know we can skip the ``if`` s. Use for ``str``, ``bytes``, ``enum``,\u001b[39;00m\n\u001b[0;32m    413\u001b[0m \u001b[38;5;124;03m    etc.\u001b[39;00m\n\u001b[0;32m    414\u001b[0m \u001b[38;5;124;03m    \"\"\"\u001b[39;00m\n\u001b[1;32m--> 415\u001b[0m     \u001b[38;5;28;01mreturn\u001b[39;00m \u001b[43mcl\u001b[49m\u001b[43m(\u001b[49m\u001b[43mobj\u001b[49m\u001b[43m)\u001b[49m\n",
      "\u001b[1;31mTypeError\u001b[0m: int() argument must be a string, a bytes-like object or a real number, not 'NoneType'"
     ]
    }
   ],
   "source": [
    "str_orig = str(net)\n",
    "\n",
    "filenamej = str(Path(tmp_path) / f\"{net.id}.json\")\n",
    "net.to_json_file(filenamej)\n",
    "\n",
    "filenamey = str(Path(tmp_path) / f\"{net.id}.yaml\")\n",
    "# net.id = net.id+'_yaml'\n",
    "net.to_yaml_file(filenamey)\n",
    "\n",
    "filenamex = str(Path(tmp_path) / f\"{net.id}.xml\")\n",
    "net.to_xml_file(filenamex)\n",
    "\n",
    "from modelspec.utils import load_json, load_yaml, load_xml\n",
    "\n",
    "dataj = load_json(filenamej)\n",
    "print_v(\"Loaded network specification from %s\" % filenamej)\n",
    "netj = NewNetwork.from_dict(dataj)\n",
    "\n",
    "str_netj = str(netj)\n",
    "\n",
    "datay = load_yaml(filenamey)\n",
    "print_v(\"Loaded network specification from %s\" % filenamey)\n",
    "\n",
    "nety = NewNetwork.from_dict(datay)\n",
    "str_nety = str(nety)\n",
    "\n",
    "datax = load_xml(filenamex)\n",
    "print_v(\"Loaded network specification from %s\" % filenamex)\n",
    "\n",
    "netx = NewNetwork.from_dict(datax)\n",
    "str_netx = str(netx)\n",
    "\n",
    "print(\"----- Before -----\")\n",
    "print(str_orig)\n",
    "print(\"----- After via %s -----\" % filenamej)\n",
    "print(str_netj)\n",
    "print(\"----- After via %s -----\" % filenamey)\n",
    "print(str_nety)\n",
    "print(\"----- After via %s -----\" % filenamex)\n",
    "print(str_netx)\n",
    "\n",
    "print(\"Test JSON..\")\n",
    "if sys.version_info[0] == 2:\n",
    "    assert len(str_orig) == len(\n",
    "        str_netj\n",
    "    )  # Order not preserved in py2, just test len\n",
    "else:\n",
    "    assert str_orig == str_netj\n",
    "\n",
    "print(\"Test YAML..\")\n",
    "if sys.version_info[0] == 2:\n",
    "    assert len(str_orig) == len(\n",
    "        str_nety\n",
    "    )  # Order not preserved in py2, just test len\n",
    "else:\n",
    "    assert str_orig == str_nety\n",
    "\n",
    "#     print(\"Test XML..\")\n",
    "#     if sys.version_info[0] == 2:\n",
    "#         assert len(str_orig) == len(\n",
    "#             str_netx\n",
    "#         )  # Order not preserved in py2, just test len\n",
    "#     else:\n",
    "#         assert str_orig == str_netx\n",
    "\n",
    "print(\"Test EvaluableExpressions\")\n",
    "for i in range(7):\n",
    "    assert eval(\"net.ee%i\" % i) == eval(\"netj.ee%i\" % i)\n",
    "    assert eval(\"net.ee%i\" % i) == eval(\"nety.ee%i\" % i)\n",
    "    #assert eval(\"net.ee%i\" % i) == eval(\"netx.ee%i\" % i)"
   ]
  },
  {
   "cell_type": "code",
   "execution_count": 139,
   "id": "fcf4529d",
   "metadata": {},
   "outputs": [
    {
     "data": {
      "text/plain": [
       "'netid.xml'"
      ]
     },
     "execution_count": 139,
     "metadata": {},
     "output_type": "execute_result"
    }
   ],
   "source": [
    "# Saving to xml file\n",
    "net.to_xml_file()"
   ]
  },
  {
   "cell_type": "code",
   "execution_count": 65,
   "id": "8e1b5797",
   "metadata": {},
   "outputs": [
    {
     "data": {
      "text/plain": [
       "'netid.json'"
      ]
     },
     "execution_count": 65,
     "metadata": {},
     "output_type": "execute_result"
    }
   ],
   "source": [
    "# Saving to json file\n",
    "net.to_json_file()"
   ]
  },
  {
   "cell_type": "code",
   "execution_count": 76,
   "id": "f08f8bf2",
   "metadata": {},
   "outputs": [
    {
     "data": {
      "text/plain": [
       "'netid.yaml'"
      ]
     },
     "execution_count": 76,
     "metadata": {},
     "output_type": "execute_result"
    }
   ],
   "source": [
    "# Saving to yaml file\n",
    "net.to_yaml_file()"
   ]
  },
  {
   "cell_type": "code",
   "execution_count": 69,
   "id": "dc602e68",
   "metadata": {},
   "outputs": [
    {
     "data": {
      "text/plain": [
       "{'netid': {'version': 'NeuroMLlite 0.0',\n",
       "  'seed': None,\n",
       "  'stable': False,\n",
       "  'parameters': \"{'size': 3, 'name': None}\",\n",
       "  'random_connectivity': 'NewRandomConnectivity(probability=0.01)',\n",
       "  'ee0': 'str',\n",
       "  'ee1': \"{'a': 2}\",\n",
       "  'ee2': 1,\n",
       "  'ee3': 1.1,\n",
       "  'ee4': True,\n",
       "  'ee5': '[1, 2]',\n",
       "  'ee6': None,\n",
       "  'newCells': [{'cellid1': {'neuroml2_source_file': 'nnn'}},\n",
       "   {'cellid2': {'neuroml2_source_file': 'nnn2'}}],\n",
       "  'newSynapses': [{'syn0': {'neuroml2_source_file': None, 'tested': True}},\n",
       "   {'syn1': {'neuroml2_source_file': 'xx', 'tested': None}}]}}"
      ]
     },
     "execution_count": 69,
     "metadata": {},
     "output_type": "execute_result"
    }
   ],
   "source": [
    "# Loading xml file\n",
    "loaded_xml_2 = load_xml('netid.xml')\n",
    "loaded_xml_2"
   ]
  },
  {
   "cell_type": "code",
   "execution_count": 70,
   "id": "2ef2b7a2",
   "metadata": {},
   "outputs": [
    {
     "data": {
      "text/plain": [
       "{'netid': {'cells': {'cellid1': {'neuroml2_source_file': 'nnn'},\n",
       "   'cellid2': {'neuroml2_source_file': 'nnn2'}},\n",
       "  'synapses': {'syn0': {'tested': True},\n",
       "   'syn1': {'neuroml2_source_file': 'xx'}},\n",
       "  'stable': False,\n",
       "  'parameters': {'size': 3, 'name': None},\n",
       "  'random_connectivity': {'probability': 0.01},\n",
       "  'ee0': 'str',\n",
       "  'ee1': {'a': 2},\n",
       "  'ee2': 1,\n",
       "  'ee3': 1.1,\n",
       "  'ee4': True,\n",
       "  'ee5': [1, 2]}}"
      ]
     },
     "execution_count": 70,
     "metadata": {},
     "output_type": "execute_result"
    }
   ],
   "source": [
    "# Loading json file\n",
    "loaded_json_2 = load_json('netid.json')\n",
    "loaded_json_2"
   ]
  },
  {
   "cell_type": "code",
   "execution_count": 77,
   "id": "02eb4c97",
   "metadata": {},
   "outputs": [
    {
     "data": {
      "text/plain": [
       "{'netid': {'cells': {'cellid1': {'neuroml2_source_file': 'nnn'},\n",
       "   'cellid2': {'neuroml2_source_file': 'nnn2'}},\n",
       "  'synapses': {'syn0': {'tested': True},\n",
       "   'syn1': {'neuroml2_source_file': 'xx'}},\n",
       "  'stable': False,\n",
       "  'parameters': {'size': 3, 'name': None},\n",
       "  'random_connectivity': {'probability': 0.01},\n",
       "  'ee0': 'str',\n",
       "  'ee1': {'a': 2},\n",
       "  'ee2': 1,\n",
       "  'ee3': 1.1,\n",
       "  'ee4': True,\n",
       "  'ee5': [1, 2]}}"
      ]
     },
     "execution_count": 77,
     "metadata": {},
     "output_type": "execute_result"
    }
   ],
   "source": [
    "# Loading yaml file\n",
    "loaded_yaml_2 = load_yaml('netid.json')\n",
    "loaded_yaml_2"
   ]
  },
  {
   "cell_type": "code",
   "execution_count": 78,
   "id": "a1c49720",
   "metadata": {},
   "outputs": [
    {
     "data": {
      "text/plain": [
       "{'netid': {'cells': {'cellid1': {'neuroml2_source_file': 'nnn'},\n",
       "   'cellid2': {'neuroml2_source_file': 'nnn2'}},\n",
       "  'synapses': {'syn0': {'tested': True},\n",
       "   'syn1': {'neuroml2_source_file': 'xx'}},\n",
       "  'stable': False,\n",
       "  'parameters': {'size': 3, 'name': None},\n",
       "  'random_connectivity': {'probability': 0.01},\n",
       "  'ee0': 'str',\n",
       "  'ee1': {'a': 2},\n",
       "  'ee2': 1,\n",
       "  'ee3': 1.1,\n",
       "  'ee4': True,\n",
       "  'ee5': [1, 2]}}"
      ]
     },
     "execution_count": 78,
     "metadata": {},
     "output_type": "execute_result"
    }
   ],
   "source": [
    "# Original dict\n",
    "nml_dict_2 = net.to_dict()\n",
    "nml_dict_2"
   ]
  },
  {
   "cell_type": "code",
   "execution_count": 79,
   "id": "79490b88",
   "metadata": {},
   "outputs": [
    {
     "name": "stdout",
     "output_type": "stream",
     "text": [
      "False\n"
     ]
    }
   ],
   "source": [
    "# Comparing loaded xml with original dictionary\n",
    "check(loaded_xml_2, nml_dict_2)"
   ]
  },
  {
   "cell_type": "code",
   "execution_count": 80,
   "id": "899b9930",
   "metadata": {},
   "outputs": [
    {
     "name": "stdout",
     "output_type": "stream",
     "text": [
      "False\n"
     ]
    }
   ],
   "source": [
    "# Comparing loaded xml with loaded json\n",
    "check(loaded_xml_2, loaded_json_2)"
   ]
  },
  {
   "cell_type": "code",
   "execution_count": 81,
   "id": "90676918",
   "metadata": {},
   "outputs": [
    {
     "name": "stdout",
     "output_type": "stream",
     "text": [
      "False\n"
     ]
    }
   ],
   "source": [
    "# Comparing loaded xml with laoded yaml\n",
    "check(loaded_xml_2, loaded_yaml_2)"
   ]
  },
  {
   "cell_type": "code",
   "execution_count": 82,
   "id": "c6b23bfa",
   "metadata": {},
   "outputs": [
    {
     "data": {
      "text/plain": [
       "NeuroML(id='TestNeuroML', version='NeuroML_v2.3', izhikevich2007Cells=[Izhikevich2007Cell(id='izh2007RS0', C='100pF', v0='-60mV', k='0.7nS_per_mV', vr='-60mV', vt='-40mV', vpeak='35mV', a='0.03per_ms', b='-2nS', c='-50.0mV', d='100pA')], pulseGenerators=[PulseGenerator(id='pulseGen_0', delay='100ms', duration='800ms', amplitude='0.07 nA')], networks=[Network(id='IzNet', populations=[Population(id='IzhPop0', component='izh2007RS0', size=1)], explicitInputs=[ExplicitInput(target='IzhPop0[0]', input='pulseGen_0')])])"
      ]
     },
     "execution_count": 82,
     "metadata": {},
     "output_type": "execute_result"
    }
   ],
   "source": [
    "nml_doc"
   ]
  },
  {
   "cell_type": "code",
   "execution_count": 200,
   "id": "78bcc13c",
   "metadata": {},
   "outputs": [
    {
     "data": {
      "text/plain": [
       "{'netid': {'version': 'NeuroMLlite 0.0',\n",
       "  'seed': None,\n",
       "  'stable': False,\n",
       "  'parameters': \"{'size': 3, 'name': None}\",\n",
       "  'random_connectivity': 'NewRandomConnectivity(probability=0.01)',\n",
       "  'ee0': 'str',\n",
       "  'ee1': \"{'a': 2}\",\n",
       "  'ee2': 1,\n",
       "  'ee3': 1.1,\n",
       "  'ee4': True,\n",
       "  'ee5': '[1, 2]',\n",
       "  'ee6': None,\n",
       "  'newCells': [{'cellid1': {'neuroml2_source_file': 'nnn'}},\n",
       "   {'cellid2': {'neuroml2_source_file': 'nnn2'}}],\n",
       "  'newSynapses': [{'syn0': {'neuroml2_source_file': None, 'tested': True}},\n",
       "   {'syn1': {'neuroml2_source_file': 'xx', 'tested': None}}]}}"
      ]
     },
     "execution_count": 200,
     "metadata": {},
     "output_type": "execute_result"
    }
   ],
   "source": [
    "datax"
   ]
  },
  {
   "cell_type": "code",
   "execution_count": 160,
   "id": "399dee49",
   "metadata": {},
   "outputs": [
    {
     "data": {
      "text/plain": [
       "{'netid': {'cells': {'cellid1': {'neuroml2_source_file': 'nnn'},\n",
       "   'cellid2': {'neuroml2_source_file': 'nnn2'}},\n",
       "  'synapses': {'syn0': {'tested': True},\n",
       "   'syn1': {'neuroml2_source_file': 'xx'}},\n",
       "  'stable': False,\n",
       "  'parameters': {'size': 3, 'name': None},\n",
       "  'random_connectivity': {'probability': 0.01},\n",
       "  'ee0': 'str',\n",
       "  'ee1': {'a': 2},\n",
       "  'ee2': 1,\n",
       "  'ee3': 1.1,\n",
       "  'ee4': True,\n",
       "  'ee5': [1, 2]}}"
      ]
     },
     "execution_count": 160,
     "metadata": {},
     "output_type": "execute_result"
    }
   ],
   "source": [
    "datay"
   ]
  },
  {
   "cell_type": "code",
   "execution_count": 100,
   "id": "ef34c7fe",
   "metadata": {},
   "outputs": [
    {
     "data": {
      "text/plain": [
       "NewNetwork(id='IzNet', cells=[], synapses=[], version='NeuroMLlite 0.0', seed=None, stable=None, parameters=None, random_connectivity=None, ee0=None, ee1=None, ee2=None, ee3=None, ee4=None, ee5=None, ee6=None)"
      ]
     },
     "execution_count": 100,
     "metadata": {},
     "output_type": "execute_result"
    }
   ],
   "source": [
    "netj"
   ]
  },
  {
   "cell_type": "code",
   "execution_count": 161,
   "id": "9638a521",
   "metadata": {},
   "outputs": [
    {
     "data": {
      "text/plain": [
       "NewNetwork(id='netid', cells=[NewCell(id='cellid1', neuroml2_source_file='nnn'), NewCell(id='cellid2', neuroml2_source_file='nnn2')], synapses=[NewSynapse(id='syn0', neuroml2_source_file=None, tested=True), NewSynapse(id='syn1', neuroml2_source_file='xx', tested=None)], version='NeuroMLlite 0.0', seed=None, stable=False, parameters={'size': 3, 'name': None}, random_connectivity=NewRandomConnectivity(probability=0.01), ee0='str', ee1={'a': 2}, ee2=1, ee3=1.1, ee4=True, ee5=[1, 2], ee6=None)"
      ]
     },
     "execution_count": 161,
     "metadata": {},
     "output_type": "execute_result"
    }
   ],
   "source": [
    "nety"
   ]
  },
  {
   "cell_type": "code",
   "execution_count": 196,
   "id": "d523efc7",
   "metadata": {},
   "outputs": [
    {
     "data": {
      "text/plain": [
       "NewNetwork(id='IzNet', cells=[], synapses=[], version='NeuroMLlite 0.0', seed=None, stable=None, parameters=None, random_connectivity=None, ee0=None, ee1=None, ee2=None, ee3=None, ee4=None, ee5=None, ee6=None)"
      ]
     },
     "execution_count": 196,
     "metadata": {},
     "output_type": "execute_result"
    }
   ],
   "source": [
    "netx"
   ]
  },
  {
   "cell_type": "code",
   "execution_count": 177,
   "id": "df6ec8c4",
   "metadata": {},
   "outputs": [
    {
     "name": "stdout",
     "output_type": "stream",
     "text": [
      "<?xml version=\"1.0\" ?>\n",
      "<NewNetwork id=\"netid\" version=\"NeuroMLlite 0.0\" seed=\"None\" stable=\"False\" parameters=\"{'size': 3, 'name': None}\" random_connectivity=\"NewRandomConnectivity(probability=0.01)\" ee0=\"str\" ee1=\"{'a': 2}\" ee2=\"1\" ee3=\"1.1\" ee4=\"True\" ee5=\"[1, 2]\" ee6=\"None\">\n",
      "    <NewCell id=\"cellid1\" neuroml2_source_file=\"nnn\"/>\n",
      "    <NewCell id=\"cellid2\" neuroml2_source_file=\"nnn2\"/>\n",
      "    <NewSynapse id=\"syn0\" neuroml2_source_file=\"None\" tested=\"True\"/>\n",
      "    <NewSynapse id=\"syn1\" neuroml2_source_file=\"xx\" tested=\"None\"/>\n",
      "</NewNetwork>\n",
      "\n"
     ]
    }
   ],
   "source": [
    "import xml.etree.ElementTree as ET\n",
    "import attr\n",
    "\n",
    "def build_xml_element(data, parent=None):\n",
    "    \"\"\"\n",
    "    This recursively builds an XML element structure from a dictionary or a list.\n",
    "\n",
    "    Args:\n",
    "        parent: The parent XML element to attach the new element(s) to.\n",
    "        data: The data to convert into XML elements.\n",
    "\n",
    "    Returns:\n",
    "        Parent\n",
    "    \"\"\"\n",
    "    if parent is None:\n",
    "        parent = ET.Element(data.__class__.__name__)\n",
    "\n",
    "    attrs = attr.fields(data.__class__)\n",
    "    for aattr in attrs:\n",
    "        if isinstance(aattr.default, attr.Factory):\n",
    "            children = data.__getattribute__(aattr.name)\n",
    "            if not isinstance(children, (list, tuple)):\n",
    "                children = [children]\n",
    "\n",
    "            for child in children:\n",
    "                child_element = build_xml_element(child)\n",
    "                parent.append(child_element)\n",
    "        else:\n",
    "            attribute_name = aattr.name\n",
    "            attribute_value = data.__getattribute__(aattr.name)\n",
    "            parent.set(attribute_name, str(attribute_value))\n",
    "\n",
    "    return parent\n",
    "\n",
    "\n",
    "root = build_xml_element(net)\n",
    "\n",
    "xml_string = ET.tostring(\n",
    "    root, encoding=\"utf-8\", xml_declaration=False, method=\"xml\"\n",
    ").decode(\"utf-8\")\n",
    "\n",
    "parsed_xml = xml.dom.minidom.parseString(xml_string)\n",
    "pretty_xml = parsed_xml.toprettyxml(indent=\" \" * 4)\n",
    "print(pretty_xml)"
   ]
  },
  {
   "cell_type": "code",
   "execution_count": 174,
   "id": "7f1f1911",
   "metadata": {},
   "outputs": [
    {
     "data": {
      "text/plain": [
       "NewNetwork(id='netid', cells=[NewCell(id='cellid1', neuroml2_source_file='nnn'), NewCell(id='cellid2', neuroml2_source_file='nnn2')], synapses=[NewSynapse(id='syn0', neuroml2_source_file=None, tested=True), NewSynapse(id='syn1', neuroml2_source_file='xx', tested=None)], version='NeuroMLlite 0.0', seed=None, stable=False, parameters={'size': 3, 'name': None}, random_connectivity=NewRandomConnectivity(probability=0.01), ee0='str', ee1={'a': 2}, ee2=1, ee3=1.1, ee4=True, ee5=[1, 2], ee6=None)"
      ]
     },
     "execution_count": 174,
     "metadata": {},
     "output_type": "execute_result"
    }
   ],
   "source": [
    "net"
   ]
  },
  {
   "cell_type": "code",
   "execution_count": 181,
   "id": "79ad8911",
   "metadata": {},
   "outputs": [
    {
     "data": {
      "text/plain": [
       "{'netid': {'cells': {'cellid1': {'neuroml2_source_file': 'nnn'},\n",
       "   'cellid2': {'neuroml2_source_file': 'nnn2'}},\n",
       "  'synapses': {'syn0': {'tested': True},\n",
       "   'syn1': {'neuroml2_source_file': 'xx'}},\n",
       "  'stable': False,\n",
       "  'parameters': {'size': 3, 'name': None},\n",
       "  'random_connectivity': {'probability': 0.01},\n",
       "  'ee0': 'str',\n",
       "  'ee1': {'a': 2},\n",
       "  'ee2': 1,\n",
       "  'ee3': 1.1,\n",
       "  'ee4': True,\n",
       "  'ee5': [1, 2]}}"
      ]
     },
     "execution_count": 181,
     "metadata": {},
     "output_type": "execute_result"
    }
   ],
   "source": [
    "net.to_dict()"
   ]
  },
  {
   "cell_type": "code",
   "execution_count": 185,
   "id": "dbdf7ec6",
   "metadata": {},
   "outputs": [
    {
     "name": "stdout",
     "output_type": "stream",
     "text": [
      "<?xml version=\"1.0\" ?>\n",
      "<NeuroML id=\"TestNeuroML\" version=\"NeuroML_v2.3\">\n",
      "    <Izhikevich2007Cell id=\"izh2007RS0\" C=\"100pF\" v0=\"-60mV\" k=\"0.7nS_per_mV\" vr=\"-60mV\" vt=\"-40mV\" vpeak=\"35mV\" a=\"0.03per_ms\" b=\"-2nS\" c=\"-50.0mV\" d=\"100pA\"/>\n",
      "    <PulseGenerator id=\"pulseGen_0\" delay=\"100ms\" duration=\"800ms\" amplitude=\"0.07 nA\"/>\n",
      "    <Network id=\"IzNet\">\n",
      "        <Population id=\"IzhPop0\" component=\"izh2007RS0\" size=\"1\"/>\n",
      "        <ExplicitInput target=\"IzhPop0[0]\" input=\"pulseGen_0\"/>\n",
      "    </Network>\n",
      "</NeuroML>\n",
      "\n"
     ]
    }
   ],
   "source": [
    "xml_string = nml_doc.to_xml()\n",
    "print(xml_string)"
   ]
  },
  {
   "cell_type": "code",
   "execution_count": 186,
   "id": "d3b39bf9",
   "metadata": {},
   "outputs": [
    {
     "data": {
      "text/plain": [
       "NewNetwork(id='netid', cells=[NewCell(id='cellid1', neuroml2_source_file='nnn'), NewCell(id='cellid2', neuroml2_source_file='nnn2')], synapses=[NewSynapse(id='syn0', neuroml2_source_file=None, tested=True), NewSynapse(id='syn1', neuroml2_source_file='xx', tested=None)], version='NeuroMLlite 0.0', seed=None, stable=False, parameters={'size': 3, 'name': None}, random_connectivity=NewRandomConnectivity(probability=0.01), ee0='str', ee1={'a': 2}, ee2=1, ee3=1.1, ee4=True, ee5=[1, 2], ee6=None)"
      ]
     },
     "execution_count": 186,
     "metadata": {},
     "output_type": "execute_result"
    }
   ],
   "source": [
    "net"
   ]
  },
  {
   "cell_type": "code",
   "execution_count": 187,
   "id": "fa951a64",
   "metadata": {},
   "outputs": [
    {
     "data": {
      "text/plain": [
       "{'netid': {'cells': {'cellid1': {'neuroml2_source_file': 'nnn'},\n",
       "   'cellid2': {'neuroml2_source_file': 'nnn2'}},\n",
       "  'synapses': {'syn0': {'tested': True},\n",
       "   'syn1': {'neuroml2_source_file': 'xx'}},\n",
       "  'stable': False,\n",
       "  'parameters': {'size': 3, 'name': None},\n",
       "  'random_connectivity': {'probability': 0.01},\n",
       "  'ee0': 'str',\n",
       "  'ee1': {'a': 2},\n",
       "  'ee2': 1,\n",
       "  'ee3': 1.1,\n",
       "  'ee4': True,\n",
       "  'ee5': [1, 2]}}"
      ]
     },
     "execution_count": 187,
     "metadata": {},
     "output_type": "execute_result"
    }
   ],
   "source": [
    "net.to_dict()"
   ]
  },
  {
   "cell_type": "code",
   "execution_count": 193,
   "id": "b819ed22",
   "metadata": {},
   "outputs": [
    {
     "data": {
      "text/plain": [
       "{'netid': {'cells': [{'id': 'cellid1', 'neuroml2_source_file': 'nnn'},\n",
       "   {'id': 'cellid2', 'neuroml2_source_file': 'nnn2'}],\n",
       "  'synapses': [{'id': 'syn0', 'neuroml2_source_file': None, 'tested': True},\n",
       "   {'id': 'syn1', 'neuroml2_source_file': 'xx', 'tested': None}],\n",
       "  'version': 'NeuroMLlite 0.0',\n",
       "  'seed': None,\n",
       "  'stable': False,\n",
       "  'parameters': {'size': 3, 'name': None},\n",
       "  'random_connectivity': {'probability': 0.01},\n",
       "  'ee0': 'str',\n",
       "  'ee1': {'a': 2},\n",
       "  'ee2': 1,\n",
       "  'ee3': 1.1,\n",
       "  'ee4': True,\n",
       "  'ee5': [1, 2],\n",
       "  'ee6': None}}"
      ]
     },
     "execution_count": 193,
     "metadata": {},
     "output_type": "execute_result"
    }
   ],
   "source": [
    "import cattr\n",
    "def to_dict(data) -> Dict[str, Any]:\n",
    "        \"\"\"Convert the Base object to a nested dict structure.\"\"\"\n",
    "        converter = cattr.Converter()\n",
    "        d = converter.unstructure(data)\n",
    "\n",
    "        # If this object has an id attribute, by default lets serialize it within a dict with the id as the key, even if\n",
    "        # it is a single object.\n",
    "        if \"id\" in [f.name for f in attr.fields(data.__class__)] and \"id\" in d.keys():\n",
    "            # Drop the id field\n",
    "            del d[\"id\"]\n",
    "            return {data.id: d}\n",
    "        else:\n",
    "            return d\n",
    "\n",
    "        \n",
    "dict_d = to_dict(net)\n",
    "dict_d"
   ]
  },
  {
   "cell_type": "code",
   "execution_count": 192,
   "id": "bcf285a6",
   "metadata": {},
   "outputs": [
    {
     "data": {
      "text/plain": [
       "{'netid': {'cells': {'cellid1': {'neuroml2_source_file': 'nnn'},\n",
       "   'cellid2': {'neuroml2_source_file': 'nnn2'}},\n",
       "  'synapses': {'syn0': {'tested': True},\n",
       "   'syn1': {'neuroml2_source_file': 'xx'}},\n",
       "  'stable': False,\n",
       "  'parameters': {'size': 3, 'name': None},\n",
       "  'random_connectivity': {'probability': 0.01},\n",
       "  'ee0': 'str',\n",
       "  'ee1': {'a': 2},\n",
       "  'ee2': 1,\n",
       "  'ee3': 1.1,\n",
       "  'ee4': True,\n",
       "  'ee5': [1, 2]}}"
      ]
     },
     "execution_count": 192,
     "metadata": {},
     "output_type": "execute_result"
    }
   ],
   "source": [
    "net.to_dict()"
   ]
  },
  {
   "cell_type": "code",
   "execution_count": null,
   "id": "6ebdc9aa",
   "metadata": {},
   "outputs": [],
   "source": []
  },
  {
   "cell_type": "code",
   "execution_count": null,
   "id": "d66e5d1b",
   "metadata": {},
   "outputs": [],
   "source": []
  }
 ],
 "metadata": {
  "kernelspec": {
   "display_name": "Python 3 (ipykernel)",
   "language": "python",
   "name": "python3"
  },
  "language_info": {
   "codemirror_mode": {
    "name": "ipython",
    "version": 3
   },
   "file_extension": ".py",
   "mimetype": "text/x-python",
   "name": "python",
   "nbconvert_exporter": "python",
   "pygments_lexer": "ipython3",
   "version": "3.10.0"
  }
 },
 "nbformat": 4,
 "nbformat_minor": 5
}
