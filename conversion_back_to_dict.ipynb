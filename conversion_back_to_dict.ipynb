{
 "cells": [
  {
   "cell_type": "code",
   "execution_count": 7,
   "id": "d976aa79",
   "metadata": {},
   "outputs": [],
   "source": [
    "from typing import List\n",
    "from dataclasses import fields\n",
    "import modelspec\n",
    "from modelspec import field, instance_of, optional\n",
    "from modelspec.base_types import Base\n",
    "from typing import List\n",
    "import xmltodict\n",
    "import xml.etree.ElementTree as ET"
   ]
  },
  {
   "cell_type": "code",
   "execution_count": 8,
   "id": "8a4ca87d",
   "metadata": {},
   "outputs": [],
   "source": [
    "@modelspec.define\n",
    "class Population(Base):\n",
    "    \"\"\"\n",
    "    Some description...\n",
    "\n",
    "    Args:\n",
    "        id: The id of the population\n",
    "        component: the component to use in the population\n",
    "        size: the size of the population\n",
    "    \"\"\"\n",
    "\n",
    "    id: str = field(validator=instance_of(str))\n",
    "    component: str = field(default=None, validator=optional(instance_of(str)))\n",
    "    size: int = field(default=None, validator=optional(instance_of(int)))\n",
    "\n",
    "\n",
    "@modelspec.define\n",
    "class ExplicitInput(Base):\n",
    "    \"\"\"\n",
    "    Some description...\n",
    "\n",
    "    Args:\n",
    "        target: the target of the input\n",
    "        input: the input, e.g. pulseGenerator\n",
    "    \"\"\"\n",
    "\n",
    "    target: str = field(default=None, validator=optional(instance_of(str)))\n",
    "    input: str = field(default=None, validator=optional(instance_of(str)))\n",
    "\n",
    "\n",
    "@modelspec.define\n",
    "class Network(Base):\n",
    "    \"\"\"\n",
    "    Some description...\n",
    "\n",
    "    Args:\n",
    "        id: The id of the network\n",
    "        populations: the pops in the net\n",
    "    \"\"\"\n",
    "\n",
    "    id: str = field(validator=instance_of(str))\n",
    "\n",
    "    populations: List[Population] = field(factory=list)\n",
    "    explicitInputs: List[ExplicitInput] = field(factory=list)\n",
    "\n",
    "\n",
    "@modelspec.define\n",
    "class PulseGenerator(Base):\n",
    "    \"\"\"\n",
    "    Some description...\n",
    "\n",
    "    Args:\n",
    "        id: The id of the pulseGenerator\n",
    "        delay: the delay\n",
    "        duration: the duration\n",
    "        amplitude: the amplitude\n",
    "    \"\"\"\n",
    "\n",
    "    id: str = field(validator=instance_of(str))\n",
    "    delay: str = field(validator=instance_of(str))\n",
    "    duration: str = field(validator=instance_of(str))\n",
    "    amplitude: str = field(validator=instance_of(str))\n",
    "\n",
    "\n",
    "@modelspec.define\n",
    "class Izhikevich2007Cell(Base):\n",
    "    \"\"\"\n",
    "    Some description...\n",
    "\n",
    "    Args:\n",
    "        id: The id of the cell...\n",
    "    \"\"\"\n",
    "\n",
    "    id: str = field(validator=instance_of(str))\n",
    "\n",
    "    C: str = field(validator=instance_of(str))\n",
    "    v0: str = field(validator=instance_of(str))\n",
    "    k: str = field(validator=instance_of(str))\n",
    "    vr: str = field(validator=instance_of(str))\n",
    "    vt: str = field(validator=instance_of(str))\n",
    "    vpeak: str = field(validator=instance_of(str))\n",
    "    a: str = field(validator=instance_of(str))\n",
    "    b: str = field(validator=instance_of(str))\n",
    "    c: str = field(validator=instance_of(str))\n",
    "    d: str = field(validator=instance_of(str))\n",
    "\n",
    "\n",
    "@modelspec.define\n",
    "class NeuroML(Base):\n",
    "    \"\"\"\n",
    "    Some description...\n",
    "\n",
    "    Args:\n",
    "        id: The id of the NeuroML 2 document\n",
    "        version: NeuroML version used\n",
    "        networks: The networks present\n",
    "    \"\"\"\n",
    "\n",
    "    id: str = field(validator=instance_of(str))\n",
    "    version: str = field(validator=instance_of(str))\n",
    "\n",
    "    izhikevich2007Cells: List[Izhikevich2007Cell] = field(factory=list)\n",
    "    pulseGenerators: List[PulseGenerator] = field(factory=list)\n",
    "    networks: List[Network] = field(factory=list)\n",
    "\n",
    "\n",
    "nml_doc = NeuroML(id=\"TestNeuroML\", version=\"NeuroML_v2.3\")\n",
    "\n",
    "izh = Izhikevich2007Cell(\n",
    "        id=\"izh2007RS0\",\n",
    "        C=\"100pF\",\n",
    "        v0=\"-60mV\",\n",
    "        k=\"0.7nS_per_mV\",\n",
    "        vr=\"-60mV\",\n",
    "        vt=\"-40mV\",\n",
    "        vpeak=\"35mV\",\n",
    "        a=\"0.03per_ms\",\n",
    "        b=\"-2nS\",\n",
    "        c=\"-50.0mV\",\n",
    "        d=\"100pA\",\n",
    ")\n",
    "nml_doc.izhikevich2007Cells.append(izh)\n",
    "\n",
    "pg = PulseGenerator(\n",
    "        id=\"pulseGen_0\", delay=\"100ms\", duration=\"800ms\", amplitude=\"0.07 nA\"\n",
    ")\n",
    "nml_doc.pulseGenerators.append(pg)\n",
    "\n",
    "net = Network(id=\"IzNet\")\n",
    "nml_doc.networks.append(net)\n",
    "\n",
    "net.populations.append(Population(\"IzhPop0\", component=\"izh2007RS0\", size=1))\n",
    "net.explicitInputs.append(ExplicitInput(target=\"IzhPop0[0]\", input=\"pulseGen_0\"))"
   ]
  },
  {
   "cell_type": "code",
   "execution_count": 9,
   "id": "6e51ccf3",
   "metadata": {},
   "outputs": [
    {
     "name": "stdout",
     "output_type": "stream",
     "text": [
      "<?xml version=\"1.0\" ?>\n",
      "<NeuroML id=\"TestNeuroML\" version=\"NeuroML_v2.3\">\n",
      "    <Izhikevich2007Cell id=\"izh2007RS0\" C=\"100pF\" v0=\"-60mV\" k=\"0.7nS_per_mV\" vr=\"-60mV\" vt=\"-40mV\" vpeak=\"35mV\" a=\"0.03per_ms\" b=\"-2nS\" c=\"-50.0mV\" d=\"100pA\"/>\n",
      "    <PulseGenerator id=\"pulseGen_0\" delay=\"100ms\" duration=\"800ms\" amplitude=\"0.07 nA\"/>\n",
      "    <Network id=\"IzNet\">\n",
      "        <Population id=\"IzhPop0\" component=\"izh2007RS0\" size=\"1\"/>\n",
      "        <ExplicitInput target=\"IzhPop0[0]\" input=\"pulseGen_0\"/>\n",
      "    </Network>\n",
      "</NeuroML>\n",
      "\n"
     ]
    }
   ],
   "source": [
    "# This creates a xml element in bite format\n",
    "xml_string = nml_doc.to_xml()\n",
    "print(xml_string)"
   ]
  },
  {
   "cell_type": "code",
   "execution_count": 30,
   "id": "22881ecf",
   "metadata": {},
   "outputs": [
    {
     "data": {
      "text/plain": [
       "{'TestNeuroML': {'version': 'NeuroML_v2.3',\n",
       "  'Izhikevich2007Cell': {'izh2007RS0': {'C': '100pF',\n",
       "    'v0': '-60mV',\n",
       "    'k': '0.7nS_per_mV',\n",
       "    'vr': '-60mV',\n",
       "    'vt': '-40mV',\n",
       "    'vpeak': '35mV',\n",
       "    'a': '0.03per_ms',\n",
       "    'b': '-2nS',\n",
       "    'c': '-50.0mV',\n",
       "    'd': '100pA'}},\n",
       "  'PulseGenerator': {'pulseGen_0': {'delay': '100ms',\n",
       "    'duration': '800ms',\n",
       "    'amplitude': '0.07 nA'}},\n",
       "  'Network': {'IzNet': {'Population': {'IzhPop0': {'component': 'izh2007RS0',\n",
       "      'size': '1'}},\n",
       "    'ExplicitInput': {'target': 'IzhPop0[0]', 'input': 'pulseGen_0'}}}}}"
      ]
     },
     "execution_count": 30,
     "metadata": {},
     "output_type": "execute_result"
    }
   ],
   "source": [
    "# This is the function that converts the xml element into a dictionary\n",
    "def element_to_dict(element):\n",
    "    \"\"\"\n",
    "    This convert an ElementTree element to a dictionary.\n",
    "\n",
    "    Args:\n",
    "        element: The ElementTree element to convert.\n",
    "\n",
    "    Returns:\n",
    "        The converted dictionary.\n",
    "    \"\"\"\n",
    "    result = {}\n",
    "    attrs = element.attrib\n",
    "    if attrs:\n",
    "        result.update(attrs)\n",
    "\n",
    "    for child_element in element:\n",
    "        child_key = child_element.tag\n",
    "        child_value = element_to_dict(child_element)\n",
    "\n",
    "        if child_key in result:\n",
    "            if not isinstance(result[child_key], list):\n",
    "                result[child_key] = [result[child_key]]\n",
    "            result[child_key].append(child_value)\n",
    "        else:\n",
    "            result[child_key] = child_value\n",
    "\n",
    "    return result\n",
    "\n",
    "# This removes every instance of \"id\" from the returned dictionary\n",
    "def handle_id(dictionary):\n",
    "    if isinstance(dictionary, dict):\n",
    "        if \"id\" in dictionary:\n",
    "            nested_dict = {dictionary[\"id\"]: dictionary.copy()}\n",
    "            del nested_dict[dictionary[\"id\"]][\"id\"]\n",
    "            return {k: handle_id(v) for k, v in nested_dict.items()}\n",
    "        else:\n",
    "            return {k: handle_id(v) for k, v in dictionary.items()}\n",
    "    elif isinstance(dictionary, list):\n",
    "        return [handle_id(item) for item in dictionary]\n",
    "    else:\n",
    "        return dictionary\n",
    "\n",
    "# This enable conversion into a dictionary\n",
    "xml_elem = ET.fromstring(xml_string)\n",
    "\n",
    "# The xml element is converted into a dictionary  \n",
    "xml_dict = element_to_dict(xml_elem)\n",
    "\n",
    "# Removes every occurance of \"id\" from the dictionary and replaces them with the key value\n",
    "perfect_dict = handle_id(xml_dict)\n",
    "perfect_dict"
   ]
  },
  {
   "cell_type": "code",
   "execution_count": 20,
   "id": "63bcef49",
   "metadata": {},
   "outputs": [
    {
     "data": {
      "text/plain": [
       "{'TestNeuroML': {'version': 'NeuroML_v2.3',\n",
       "  'izhikevich2007Cells': {'izh2007RS0': {'C': '100pF',\n",
       "    'v0': '-60mV',\n",
       "    'k': '0.7nS_per_mV',\n",
       "    'vr': '-60mV',\n",
       "    'vt': '-40mV',\n",
       "    'vpeak': '35mV',\n",
       "    'a': '0.03per_ms',\n",
       "    'b': '-2nS',\n",
       "    'c': '-50.0mV',\n",
       "    'd': '100pA'}},\n",
       "  'pulseGenerators': {'pulseGen_0': {'delay': '100ms',\n",
       "    'duration': '800ms',\n",
       "    'amplitude': '0.07 nA'}},\n",
       "  'networks': {'IzNet': {'populations': {'IzhPop0': {'component': 'izh2007RS0',\n",
       "      'size': 1}},\n",
       "    'explicitInputs': [{'target': 'IzhPop0[0]', 'input': 'pulseGen_0'}]}}}}"
      ]
     },
     "execution_count": 20,
     "metadata": {},
     "output_type": "execute_result"
    }
   ],
   "source": [
    "baseline_dict = nml_doc.to_dict()\n",
    "baseline_dict"
   ]
  },
  {
   "cell_type": "code",
   "execution_count": 35,
   "id": "da2be405",
   "metadata": {},
   "outputs": [
    {
     "name": "stdout",
     "output_type": "stream",
     "text": [
      "False\n"
     ]
    }
   ],
   "source": [
    "# Checking baseline dictionary with xml generated dictionary o check equality \n",
    "def check(reference_data, check_data):\n",
    "    if reference_data == check_data:\n",
    "        print(\"True\")\n",
    "    else:\n",
    "        print(\"False\")\n",
    "\n",
    "# Ckecked baseline dict with element_to_dict function and nml_dict         \n",
    "check(baseline_dict, perfect_dict)"
   ]
  },
  {
   "cell_type": "code",
   "execution_count": 32,
   "id": "0aa6c457",
   "metadata": {},
   "outputs": [
    {
     "data": {
      "text/plain": [
       "{'NeuroML': {'TestNeuroML': {'version': 'NeuroML_v2.3',\n",
       "   'Izhikevich2007Cell': {'izh2007RS0': {'C': '100pF',\n",
       "     'v0': '-60mV',\n",
       "     'k': '0.7nS_per_mV',\n",
       "     'vr': '-60mV',\n",
       "     'vt': '-40mV',\n",
       "     'vpeak': '35mV',\n",
       "     'a': '0.03per_ms',\n",
       "     'b': '-2nS',\n",
       "     'c': '-50.0mV',\n",
       "     'd': '100pA'}},\n",
       "   'PulseGenerator': {'pulseGen_0': {'delay': '100ms',\n",
       "     'duration': '800ms',\n",
       "     'amplitude': '0.07 nA'}},\n",
       "   'Network': {'IzNet': {'Population': {'IzhPop0': {'component': 'izh2007RS0',\n",
       "       'size': '1'}},\n",
       "     'ExplicitInput': {'target': 'IzhPop0[0]', 'input': 'pulseGen_0'}}}}}}"
      ]
     },
     "execution_count": 32,
     "metadata": {},
     "output_type": "execute_result"
    }
   ],
   "source": [
    "# Using another library as a baseline for checking\n",
    "comparison_dict = xmltodict.parse(xml_string)\n",
    "\n",
    "# Removes all instances of \"@\" used to represent attributes in the xml to dict library\n",
    "def remove_at_symbol(dictionary):\n",
    "    if isinstance(dictionary, dict):\n",
    "        new_dict = {}\n",
    "        for key, value in dictionary.items():\n",
    "            new_key = key.lstrip('@')\n",
    "            new_dict[new_key] = remove_at_symbol(value)\n",
    "        return new_dict\n",
    "    elif isinstance(dictionary, list):\n",
    "        return [remove_at_symbol(item) for item in dictionary]\n",
    "    else:\n",
    "        return dictionary\n",
    "\n",
    "at_removed = remove_at_symbol(comparison_dict)\n",
    "handle_id(at_removed)"
   ]
  },
  {
   "cell_type": "code",
   "execution_count": 36,
   "id": "236b9dda",
   "metadata": {},
   "outputs": [
    {
     "name": "stdout",
     "output_type": "stream",
     "text": [
      "False\n"
     ]
    }
   ],
   "source": [
    "# Ckecked baseline dict with the xmltodict library function and nml_dict\n",
    "check(baseline_dict, comparison_dict)"
   ]
  },
  {
   "cell_type": "code",
   "execution_count": 42,
   "id": "883f4da5",
   "metadata": {},
   "outputs": [],
   "source": []
  },
  {
   "cell_type": "code",
   "execution_count": null,
   "id": "3a4b3dea",
   "metadata": {},
   "outputs": [],
   "source": []
  },
  {
   "cell_type": "code",
   "execution_count": null,
   "id": "d26bd653",
   "metadata": {},
   "outputs": [],
   "source": []
  },
  {
   "cell_type": "code",
   "execution_count": null,
   "id": "65a12817",
   "metadata": {},
   "outputs": [],
   "source": []
  },
  {
   "cell_type": "code",
   "execution_count": null,
   "id": "0c6b3e5e",
   "metadata": {},
   "outputs": [],
   "source": []
  },
  {
   "cell_type": "code",
   "execution_count": null,
   "id": "6e87c53c",
   "metadata": {},
   "outputs": [],
   "source": []
  }
 ],
 "metadata": {
  "kernelspec": {
   "display_name": "Python 3 (ipykernel)",
   "language": "python",
   "name": "python3"
  },
  "language_info": {
   "codemirror_mode": {
    "name": "ipython",
    "version": 3
   },
   "file_extension": ".py",
   "mimetype": "text/x-python",
   "name": "python",
   "nbconvert_exporter": "python",
   "pygments_lexer": "ipython3",
   "version": "3.10.0"
  }
 },
 "nbformat": 4,
 "nbformat_minor": 5
}
